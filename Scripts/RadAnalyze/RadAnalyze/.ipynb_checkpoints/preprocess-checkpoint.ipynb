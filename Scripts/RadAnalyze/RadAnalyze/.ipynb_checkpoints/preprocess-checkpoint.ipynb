{
 "cells": [
  {
   "cell_type": "markdown",
   "metadata": {},
   "source": [
    "# Packages"
   ]
  },
  {
   "cell_type": "code",
   "execution_count": null,
   "metadata": {},
   "outputs": [],
   "source": [
    "import os\n",
    "import numpy as np\n",
    "import matplotlib.pyplot as plt\n",
    "import matplotlib.pylab as pylab\n",
    "import matplotlib\n",
    "import pandas as pd\n",
    "from itertools import *\n",
    "import xlrd,xlwt,openpyxl\n",
    "from sklearn.preprocessing import StandardScaler\n",
    "from sklearn.model_selection import train_test_split\n",
    "from sklearn.model_selection import KFold\n",
    "from sklearn.feature_selection import VarianceThreshold\n",
    "from sklearn.feature_selection import SelectKBest,f_classif\n",
    "from sklearn.linear_model import Lasso,lasso_path,LassoCV\n",
    "from pandas import Series,DataFrame\n",
    "%matplotlib inline"
   ]
  },
  {
   "cell_type": "markdown",
   "metadata": {},
   "source": [
    "# Input and preprocess file"
   ]
  },
  {
   "cell_type": "code",
   "execution_count": null,
   "metadata": {},
   "outputs": [],
   "source": [
    "fpath = input(\"Enter file path: \")\n",
    "if len(fpath) < 1 : fpath = \"D:\\\\HYHY\\\\HYHY\\\\脚本\\\\201803\\\\20180316_上海沈浮老师\\\\\"\n",
    "fname = input(\"Enter file name: \")\n",
    "if len(fname) < 1 : fname = \"20180316_150643.csv\"\n",
    "\n",
    "df = pd.read_csv(os.path.join(fpath,fname),index_col= 0, encoding='gbk', header = None)\n",
    "df = df.replace(u'良恶性',u'BorM')\n",
    "df = df.replace(u'恶性',u'0')\n",
    "df = df.replace(u'良性',u'1')\n",
    "\n",
    "df = df.replace(u'病理类型',u'Histology')\n",
    "df = df.replace(u'腺癌',u'Adenocarcinoma')\n",
    "df = df.replace(u'间质瘤',u'Mesenchymoma')\n",
    "df = df.replace(u'腺瘤',u'Adenoma')\n",
    "df = df.replace(u'粘液腺癌',u'MucinousAdenocarcinoma')\n",
    "\n",
    "df = df.replace(u'分化程度',u'Differentiated')\n",
    "df = df.replace(u'低分化',u'0')\n",
    "df = df.replace(u'中分化',u'1')\n",
    "df = df.replace(u'高分化',u'2')\n",
    "\n",
    "df = df.replace(u'T分期',u'Tstage')\n",
    "df = df.replace(u'N分期',u'Nstage')\n",
    "\n",
    "cols = list(df.iloc[0:3,:].as_matrix());df.columns = cols\n",
    "cols = ['_'.join(col[::-1]) for col in list(df.columns)];df.columns = cols\n",
    "\n",
    "\n",
    "'''\n",
    "cols = list(df.iloc[0:3,:].as_matrix())\n",
    "colss = []\n",
    "for col0,col1,col2 in zip(cols[0],cols[1],cols[2]) : colss.append('_'.join([col2,col1,col0]))\n",
    "colss\n",
    "df.columns = colss\n",
    "'''\n",
    "\n",
    "df = df.iloc[3:,:]\n",
    "df = df.apply(pd.to_numeric, errors='ignore')\n",
    "df.index = df.index.astype('int');df.index = df.index.rename('MLID')\n",
    "try:\n",
    "    df.to_csv(os.path.join(fpath,'d_data_processed.csv'))\n",
    "except PermissionError:\n",
    "    df.to_csv(os.path.join(fpath,'d_data_processed_01.csv'))\n",
    "    \n",
    "print('\\nNotes:\\n1.Colnames:filter-type-feature\\n2.Labels:0-恶性,1-良性')\n",
    "print('2.Labels:BorM-良恶性,0-恶性,1-良性')\n",
    "print('3.Labels:Histology-病理类型,Adenocarcinoma-腺癌,Mesenchymoma-间质瘤,Adenoma-腺瘤,MucinousAdenocarcinoma-粘液腺癌')\n",
    "print('4.Labels:Differentiated-分化程度,0-低分化,1-中分化,2-高分化')\n",
    "print('5.Labels:Tstage-T分期,Nstage-N分期')"
   ]
  }
 ],
 "metadata": {
  "kernelspec": {
   "display_name": "Python 3",
   "language": "python",
   "name": "python3"
  },
  "language_info": {
   "codemirror_mode": {
    "name": "ipython",
    "version": 3
   },
   "file_extension": ".py",
   "mimetype": "text/x-python",
   "name": "python",
   "nbconvert_exporter": "python",
   "pygments_lexer": "ipython3",
   "version": "3.6.4"
  }
 },
 "nbformat": 4,
 "nbformat_minor": 2
}
